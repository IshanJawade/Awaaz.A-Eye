{
 "cells": [
  {
   "cell_type": "code",
   "execution_count": 1,
   "metadata": {},
   "outputs": [
    {
     "name": "stdout",
     "output_type": "stream",
     "text": [
      "[[ 27  33  26 ...  31  27  29]\n",
      " [ 30  28  30 ...  27  33  27]\n",
      " [ 29  30  90 ...  71  68  31]\n",
      " ...\n",
      " [ 29  27  26 ... 113 119  26]\n",
      " [ 31  28  25 ... 116 112  30]\n",
      " [ 28  28  30 ...  29  28  30]]\n"
     ]
    }
   ],
   "source": [
    "import tensorflow as tf \n",
    "import numpy as np\n",
    "import pickle\n",
    "import cv2\n",
    "\n",
    "CATEGORIES = ['A', 'B', 'C', 'D', 'E', 'F', 'G', 'H', 'I', 'J', 'K', 'L', 'M', 'N', 'O', 'P', 'Q' ,'R' , 'S', 'T', 'U', 'V', 'W', 'X', 'Y', 'Z', 'del', 'nothing', 'space']\n",
    "model = tf.keras.models.load_model('/Users/ishan/Desktop/Deep Learning/Trained models/ASL_image_classifier')\n",
    "img = \"/Users/ishan/Desktop/dataset/ASL/alfa_test/K_test.jpg\"\n",
    "img = cv2.imread(img,cv2.IMREAD_GRAYSCALE)\n",
    "print(img)"
   ]
  },
  {
   "cell_type": "code",
   "execution_count": 4,
   "metadata": {},
   "outputs": [
    {
     "name": "stdout",
     "output_type": "stream",
     "text": [
      "[[[[ 44.5 ]\n",
      "   [ 61.25]\n",
      "   [ 60.5 ]\n",
      "   ...\n",
      "   [ 42.5 ]\n",
      "   [ 46.75]\n",
      "   [ 49.75]]\n",
      "\n",
      "  [[ 75.  ]\n",
      "   [115.75]\n",
      "   [107.5 ]\n",
      "   ...\n",
      "   [ 47.5 ]\n",
      "   [ 42.  ]\n",
      "   [ 39.5 ]]\n",
      "\n",
      "  [[ 96.25]\n",
      "   [161.  ]\n",
      "   [159.25]\n",
      "   ...\n",
      "   [ 56.5 ]\n",
      "   [ 55.25]\n",
      "   [ 58.75]]\n",
      "\n",
      "  ...\n",
      "\n",
      "  [[ 71.  ]\n",
      "   [ 63.  ]\n",
      "   [ 32.5 ]\n",
      "   ...\n",
      "   [114.  ]\n",
      "   [114.  ]\n",
      "   [114.  ]]\n",
      "\n",
      "  [[ 34.25]\n",
      "   [ 40.75]\n",
      "   [ 38.75]\n",
      "   ...\n",
      "   [115.  ]\n",
      "   [115.25]\n",
      "   [114.  ]]\n",
      "\n",
      "  [[ 26.5 ]\n",
      "   [ 15.25]\n",
      "   [ 13.5 ]\n",
      "   ...\n",
      "   [114.  ]\n",
      "   [114.5 ]\n",
      "   [115.  ]]]]\n"
     ]
    }
   ],
   "source": [
    "img = img.astype(float)\n",
    "\n",
    "''''img = cv2.resize(img,(50,50))'''\n",
    "\n",
    "img = np.reshape(img,(1,50,50,1))\n",
    "print(img)"
   ]
  },
  {
   "cell_type": "code",
   "execution_count": null,
   "metadata": {},
   "outputs": [],
   "source": []
  }
 ],
 "metadata": {
  "kernelspec": {
   "display_name": "Python 3",
   "language": "python",
   "name": "python3"
  },
  "language_info": {
   "codemirror_mode": {
    "name": "ipython",
    "version": 3
   },
   "file_extension": ".py",
   "mimetype": "text/x-python",
   "name": "python",
   "nbconvert_exporter": "python",
   "pygments_lexer": "ipython3",
   "version": "3.7.4"
  }
 },
 "nbformat": 4,
 "nbformat_minor": 2
}
